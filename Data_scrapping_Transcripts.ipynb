{
 "cells": [
  {
   "cell_type": "markdown",
   "metadata": {},
   "source": [
    "# Corporate quaterly earning call analysis"
   ]
  },
  {
   "cell_type": "markdown",
   "metadata": {},
   "source": [
    "# Data Scrapping for NLP\n",
    "- Below code is to scrap the data from SkingAlpha website where publicly listed companies data is available.\n",
    "- selenium webdriver and BeautifulSoup libraries are used to scrap the data from website"
   ]
  },
  {
   "cell_type": "markdown",
   "metadata": {},
   "source": [
    "## Libraries"
   ]
  },
  {
   "cell_type": "code",
   "execution_count": 4,
   "metadata": {},
   "outputs": [],
   "source": [
    "# Standard Libraries\n",
    "import pandas as pd\n",
    "from datetime import datetime,time,timedelta\n",
    "import numpy as np\n",
    "import matplotlib.pyplot as plt\n",
    "import ipywidgets as widgets\n",
    "\n",
    "# Scraping Libraries\n",
    "from bs4 import BeautifulSoup\n",
    "from selenium import webdriver\n",
    "from selenium.webdriver.chrome.options import Options\n",
    "from webdriver_manager.chrome import ChromeDriverManager\n",
    "from time import sleep\n",
    "import re\n",
    "import yfinance as yf\n",
    "\n",
    "# NLP Libraries\n",
    "from textblob import TextBlob\n",
    "import textstat\n",
    "import nltk\n",
    "import string\n",
    "from nltk.stem import PorterStemmer\n",
    "from nltk.tokenize import sent_tokenize, word_tokenize\n",
    "from nltk.corpus import stopwords\n",
    "from nltk.probability import FreqDist\n",
    "from wordcloud import WordCloud, ImageColorGenerator\n",
    "from nltk.draw.dispersion import dispersion_plot\n",
    "from nltk.corpus import stopwords\n",
    "\n",
    "import ipywidgets as widgets\n",
    "from ipywidgets import interact, interactive, fixed, interact_manual\n",
    "\n",
    "#Library for Models\n",
    "from sklearn import linear_model\n",
    "import statsmodels.api as sm\n",
    "import statsmodels.formula.api as smf\n",
    "from sklearn.tree import DecisionTreeClassifier\n",
    "from sklearn.neighbors import KNeighborsClassifier\n",
    "import random\n",
    "from sklearn.metrics import confusion_matrix\n",
    "from sklearn import model_selection, preprocessing, feature_selection, ensemble, linear_model, metrics, decomposition\n",
    "from sklearn.preprocessing import StandardScaler\n",
    "from sklearn.metrics import classification_report, confusion_matrix\n",
    "\n",
    "#path:\n",
    "base_path = \"G:\\\\Project\\\\Git_Repos\\\\NLP_conf_call_analysis\\\\Data\\\\\""
   ]
  },
  {
   "cell_type": "markdown",
   "metadata": {},
   "source": [
    "## Functions"
   ]
  },
  {
   "cell_type": "code",
   "execution_count": 2,
   "metadata": {},
   "outputs": [],
   "source": [
    "def getSentimentScore(text):\n",
    "    return TextBlob(str(text)).sentiment.polarity\n",
    "    \n",
    "def getSubjectivity(text):\n",
    "    return TextBlob(str(text)).sentiment.subjectivity\n",
    "\n",
    "def getSentiments(score):\n",
    "    if score < 0:\n",
    "        return 'Negative'\n",
    "    elif score == 0:\n",
    "        return 'Neutral'\n",
    "    else:\n",
    "        return 'Positive'\n",
    "\n",
    "def open_browser(alt_user_name = 'Thank you for your website'):\n",
    "    chrome_options = webdriver.ChromeOptions()\n",
    "    chrome_options.add_argument('--headless')\n",
    "    chrome_options.add_argument('window-size=1920x1080')\n",
    "    chrome_options.add_argument(f'user-agent={alt_user_name}')\n",
    "    driver = webdriver.Chrome(ChromeDriverManager().install())\n",
    "    return driver"
   ]
  },
  {
   "cell_type": "markdown",
   "metadata": {},
   "source": [
    "### As a part of our project, we are targeting top 50 companies of S&P 500 index\n",
    "### Top 50 companies of S&P500 index is taken from source: https://dailypik.com/top-50-companies-sp-500/\n",
    "\n",
    "## CompanyName : Symbol\n",
    "\n",
    "Apple Inc.:AAPL | Microsoft Corp.:MSFT | Amazon.com Inc.:AMZN | Facebook Inc. Class A:FB | Alphabet Inc. Class A:GOOGL | Alphabet Inc. Class C:GOOG | Tesla:TSLA | Berkshire Hathaway Inc. Class B:BRK.B | JPMorgan Chase & Co.:JPM | Johnson & Johnson:JNJ | NVIDIA Corp.:NVDA | Visa Inc. Class A:V | PayPal Holdings Inc.:PYPL | Walt Disney Company:DIS | Procter & Gamble Co.:PG | UnitedHealth Group Inc.:UNH | Home Depot Inc.:HD | MasterCard Inc. Class A:MA | Bank of America Corp.:BAC | Intel Corp.:INTC | Netflix Inc.:NFLX | Comcast Corp. Class A:CMCSA | Verizon Communications Inc.:VZ | Adobe Inc.:ADBE | salesforce.com Inc.:CRM | Abbott Laboratories:ABT | Exxon Mobil Corp.:XOM | AT&T Inc.:T | Walmart Inc.:WMT | Thermo Fisher Scientific Inc.:TMO | Cisco Systems Inc.:CSCO | Broadcom Inc.:AVGO | Pfizer Inc.:PFE | Coca-Cola Company:KO | Merck & Co. Inc.:MRK | AbbVie Inc.:ABBV | PepsiCo Inc.:PEP | Chevron Corp.:CVX | NIKE Inc. Class B:NKE | Accenture Plc Class A:ACN | Eli Lilly and Company:LLY | Texas Instruments Inc.:TXN | QUALCOMM Inc.:QCOM | Medtronic Plc:MDT | McDonald's Corp.:MCD | NextEra Energy Inc.:NEE | Costco Wholesale Corp.:COST | Danaher Corp.:DHR | Wells Fargo & Company:WFC | Union Pacific Corp.:UNP\n",
    "### This companies are sorted based on Market Capitalization"
   ]
  },
  {
   "cell_type": "code",
   "execution_count": 3,
   "metadata": {},
   "outputs": [],
   "source": [
    "def scrap_transcripts(urls,browser):\n",
    "    print('scraping transcripts')\n",
    "    list_of_dicts   = []\n",
    "    for url in urls:\n",
    "        print('Opening url:',url)\n",
    "        browser.get(url)\n",
    "        soup                    = BeautifulSoup(browser.page_source)\n",
    "        p_elements              = [item.text for item in soup.find_all('p')]\n",
    "        title                   = p_elements[0]\n",
    "        print('scraping - ',title)\n",
    "        sleep(15)\n",
    "\n",
    "        # Finding the seperation between main speech(es) and QA section\n",
    "        done = False\n",
    "        for item_num in range(len(p_elements)):\n",
    "            if done == True:\n",
    "                break\n",
    "            elif p_elements[item_num] == 'Question-and-Answer Session':\n",
    "                pre_QA_title         = p_elements[:item_num - 1]\n",
    "                post_QA_title         = p_elements[item_num:]\n",
    "                done                  = True\n",
    "            else:\n",
    "                pass\n",
    "\n",
    "        #speech = ' '.join([i for i in pre_QA_title if len(i) >= 35][1:])\n",
    "        speech = ' '.join([i for i in pre_QA_title])\n",
    "        #QA     = ' '.join([i for i in post_QA_title if len(i) >= 25])\n",
    "        QA     = ' '.join([i for i in post_QA_title])\n",
    "        speech_score = getSentimentScore(speech)\n",
    "        QA_score = getSentimentScore(QA)\n",
    "        current_dict = {\n",
    "            'qtr_year'                  : re.findall(\"Q\\d{1,5}\\s\\d{4}\",title),\n",
    "            'title'                     : title,\n",
    "            'ticker'                    : title[title.find(\":\")+len(\":\"):title.rfind(\")\")],\n",
    "            'speech'                    : speech,\n",
    "            'speech_sentiment_score'    : speech_score,\n",
    "            'speech_subjectivity'       : getSubjectivity(speech),\n",
    "            'speech_complexity'         : textstat.gunning_fog(speech),\n",
    "            'speech_overall_sentiments' : getSentiments(speech_score), \n",
    "            'Q_and_A'                   : QA,\n",
    "            'QA_sentiment_score'        : QA_score,\n",
    "            'QA_subjectivity'           : getSubjectivity(QA),\n",
    "            'QA_complexity'             : textstat.gunning_fog(QA),\n",
    "            'QA_overall_sentiments'     : getSentiments(QA_score),\n",
    "            'URL'                       : url\n",
    "        }\n",
    "        list_of_dicts.append(current_dict)\n",
    "    return list_of_dicts"
   ]
  },
  {
   "cell_type": "code",
   "execution_count": null,
   "metadata": {
    "scrolled": false
   },
   "outputs": [],
   "source": [
    "# Scraping urls of each transcript before the next step.\n",
    "browser         = open_browser()\n",
    "main_df = pd.DataFrame()\n",
    "#comp_list = ['AAPL','MSFT','AMZN','FB','GOOGL','GOOG','TSLA','BRK.B','JPM','JNJ','NVDA','PYPL','DIS','PG','UNH','HD','MA','BAC','INTC','NFLX','CMCSA','VZ','ADBE','CRM','ABT','XOM','T','WMT','TMO','CSCO','AVGO','PFE','KO','MRK','ABBV','PEP','CVX','NKE','ACN','LLY','TXN','QCOM','MDT','MCD','NEE','COST','DHR','WFC','UNP']\n",
    "#done: 'AAPL','MSFT','AMZN','FB','GOOGL','GOOG','TSLA','BRK.B','JPM','JNJ','NVDA','PYPL','DIS','PG','HD','MA','BAC','INTC','NFLX','CMCSA','VZ','ADBE','CRM','UNH','ABT','XOM','T','WMT','TMO','CSCO','AVGO','PFE','KO','MRK','ABBV','PEP','CVX','NKE','ACN','LLY','QCOM','MDT','MCD','NEE','TXN','DHR','WFC','UNP','UNH','PFG','SBUX',\n",
    "comp_list = ['COST']\n",
    "#b_url='https://seekingalpha.com/earnings/earnings-call-transcripts/'\n",
    "base_url1 = 'https://seekingalpha.com/search?q='\n",
    "base_url2 = '&type=keyword&tab=transcripts'\n",
    "#get URLs to be scrapped - Approx 10 URLs/page\n",
    "for sym in comp_list:\n",
    "    df = pd.DataFrame(columns = ['qtr_year','title','ticker', 'speech', \n",
    "                            'speech_sentiment_score','speech_subjectivity', 'speech_complexity', 'speech_overall_sentiments',\n",
    "                            'Q_and_A','QA_sentiment_score','QA_subjectivity','QA_complexity','QA_overall_sentiments','url_source'])\n",
    "    data = []\n",
    "    urls = []\n",
    "    current_ts_list = base_url1+sym+base_url2\n",
    "    print('URL to get latest 10 transcripts of ',sym, ' : ' ,current_ts_list)\n",
    "    browser.get(current_ts_list)\n",
    "    sleep(15)\n",
    "    par_elements = browser.find_elements_by_class_name('item-link')\n",
    "    for el in par_elements:\n",
    "        chld_element = el.find_elements_by_tag_name('a')\n",
    "        urls.append(chld_element[0].get_attribute('href'))\n",
    "    print('no of urls:', len(urls),' for :',sym)\n",
    "    data = scrap_transcripts(urls,browser)\n",
    "\n",
    "    #convert data to dataframe\n",
    "    df = df.append(data)\n",
    "    file = 'G:\\\\Project\\\\Git_Repos\\\\NLP-Earning-call-analysis\\\\Data\\\\NLP_conf_call_data_'+sym+'.xlsx'\n",
    "    df.to_excel(file)\n",
    "    main_df = df\n",
    "browser.close()\n",
    "\n",
    "#write to excel - export data\n",
    "#path = f_n = 'G:\\\\Project\\\\Git_Repos\\\\NLP-Earning-call-analysis\\\\Data\\\\NLP_conf_call_data.xlsx'\n",
    "#main_df.to_excel(\"../Data/NLP_conf_call_data.xlsx\")"
   ]
  },
  {
   "cell_type": "markdown",
   "metadata": {},
   "source": [
    "## Data processing"
   ]
  },
  {
   "cell_type": "code",
   "execution_count": null,
   "metadata": {},
   "outputs": [],
   "source": [
    "'''#Extract date from title\n",
    "pattern = '(?:Jan(?:uary)?|Feb(?:ruary)?|Mar(?:ch)?|Apr(?:il)?|May|June?|July?|Aug(?:ust)?|Sep(?:tember)?|Oct(?:ober)?|Nov(?:ember)?|Dec(?:ember)?)\\s+\\d{1,2},\\s+\\d{4}'\n",
    "df1 = df\n",
    "release_dt = []\n",
    "for i in range(len(df1)):\n",
    "    str_dt = re.findall(pattern,df['title'][i])\n",
    "    #print(df['title'][i])\n",
    "    #print(str_dt[0])\n",
    "    release_dt.append(datetime.strptime(str_dt[0],\"%B %d, %Y\").strftime('%Y-%m-%d'))\n",
    "df1.insert(2,'release_dt',release_dt)'''"
   ]
  },
  {
   "cell_type": "markdown",
   "metadata": {},
   "source": [
    "### Extracting stock returns (previous day, release day and next day) from Yahoon Finance library"
   ]
  },
  {
   "cell_type": "code",
   "execution_count": null,
   "metadata": {},
   "outputs": [],
   "source": [
    "'''\n",
    "prev_day_ret=[]\n",
    "release_day_ret=[]\n",
    "next_day_ret = []\n",
    "for i in range(len(df1)):\n",
    "    #print(i,df1['ticker'][i],df1['release_dt'][i])\n",
    "    stock_data = yf.Ticker(df1['ticker'][i])\n",
    "    start_dt = (datetime.strptime(df1['release_dt'][i],'%Y-%m-%d')-timedelta(5)).strftime('%Y-%m-%d')\n",
    "    end_dt = (datetime.strptime(df1['release_dt'][i],'%Y-%m-%d')+timedelta(5)).strftime('%Y-%m-%d')\n",
    "    stock_data_yf = stock_data.history(start = start_dt,end = end_dt)\n",
    "    #print(df1['ticker'][i],'--',start_dt,'--',end_dt)\n",
    "    if stock_data_yf.empty:\n",
    "        print(df1['ticker'][i],'--',start_dt,'--',end_dt)\n",
    "    for j in range(len(stock_data_yf)):\n",
    "        #print(stock_data_yf)\n",
    "        #converting index to datetime string object to compare with release_dt from main dataframe\n",
    "        # this way we can compare returns and validate if there were any big movement before release of earning call?\n",
    "        dt = datetime.strptime(str(stock_data_yf.index[j]), '%Y-%m-%d %H:%M:%S').strftime('%Y-%m-%d')\n",
    "        if dt == df1['release_dt'][i]:\n",
    "            ret1 = round(100*((stock_data_yf['Close'][j-1]-stock_data_yf['Close'][j-2])/stock_data_yf['Close'][j-2]),2) #df1['prev_day_ret%'][i] = \n",
    "            ret2 = round(100*((stock_data_yf['Close'][j]-stock_data_yf['Close'][j-1])/stock_data_yf['Close'][j-1]),2) #df1['release_day_ret%'][i] = \n",
    "            ret3 = round(100*((stock_data_yf['Close'][j+1]-stock_data_yf['Close'][j])/stock_data_yf['Close'][j]),2) #df1['next_day_ret%'][i] = \n",
    "    prev_day_ret.append(ret1)\n",
    "    release_day_ret.append(ret2)\n",
    "    next_day_ret.append(ret3)\n",
    "df1.insert(5,'prev_day_ret%',prev_day_ret)\n",
    "df1.insert(6,'release_day_ret%',release_day_ret)\n",
    "df1.insert(7,'next_day_ret%',next_day_ret)\n",
    "'''"
   ]
  },
  {
   "cell_type": "markdown",
   "metadata": {},
   "source": [
    "### Read File with final dataset and perform analysis"
   ]
  },
  {
   "cell_type": "code",
   "execution_count": 5,
   "metadata": {},
   "outputs": [
    {
     "data": {
      "text/html": [
       "<div>\n",
       "<style scoped>\n",
       "    .dataframe tbody tr th:only-of-type {\n",
       "        vertical-align: middle;\n",
       "    }\n",
       "\n",
       "    .dataframe tbody tr th {\n",
       "        vertical-align: top;\n",
       "    }\n",
       "\n",
       "    .dataframe thead th {\n",
       "        text-align: right;\n",
       "    }\n",
       "</style>\n",
       "<table border=\"1\" class=\"dataframe\">\n",
       "  <thead>\n",
       "    <tr style=\"text-align: right;\">\n",
       "      <th></th>\n",
       "      <th>Unnamed: 0</th>\n",
       "      <th>Unnamed: 0.1</th>\n",
       "      <th>qtr_year</th>\n",
       "      <th>release_dt</th>\n",
       "      <th>title</th>\n",
       "      <th>ticker</th>\n",
       "      <th>prev_day_ret%</th>\n",
       "      <th>release_day_ret%</th>\n",
       "      <th>next_day_ret%</th>\n",
       "      <th>overall_return</th>\n",
       "      <th>...</th>\n",
       "      <th>speech_complexity</th>\n",
       "      <th>speech_overall_sentiments</th>\n",
       "      <th>Q_and_A</th>\n",
       "      <th>QA_sentiment_score</th>\n",
       "      <th>QA_subjectivity</th>\n",
       "      <th>QA_complexity</th>\n",
       "      <th>Return_Driver</th>\n",
       "      <th>QA_overall_sentiments</th>\n",
       "      <th>url_source</th>\n",
       "      <th>URL_SOURCE</th>\n",
       "    </tr>\n",
       "  </thead>\n",
       "  <tbody>\n",
       "    <tr>\n",
       "      <th>0</th>\n",
       "      <td>0</td>\n",
       "      <td>1</td>\n",
       "      <td>Q1 2021</td>\n",
       "      <td>2021-01-27</td>\n",
       "      <td>Apple Inc. (NASDAQ:AAPL) Q1 2021 Results Confe...</td>\n",
       "      <td>AAPL</td>\n",
       "      <td>0.17</td>\n",
       "      <td>-0.77</td>\n",
       "      <td>-3.50</td>\n",
       "      <td>Negative</td>\n",
       "      <td>...</td>\n",
       "      <td>12.63</td>\n",
       "      <td>Positive</td>\n",
       "      <td>Question-and-Answer Session Operator We'll go ...</td>\n",
       "      <td>0.164414</td>\n",
       "      <td>0.461982</td>\n",
       "      <td>8.18</td>\n",
       "      <td>QA</td>\n",
       "      <td>Positive</td>\n",
       "      <td>NaN</td>\n",
       "      <td>https://seekingalpha.com/article/4401478-apple...</td>\n",
       "    </tr>\n",
       "    <tr>\n",
       "      <th>1</th>\n",
       "      <td>1</td>\n",
       "      <td>2</td>\n",
       "      <td>Q4 2020</td>\n",
       "      <td>2020-10-29</td>\n",
       "      <td>Apple Inc. (NASDAQ:AAPL) Q4 2020 Earnings Conf...</td>\n",
       "      <td>AAPL</td>\n",
       "      <td>-4.64</td>\n",
       "      <td>3.71</td>\n",
       "      <td>-5.60</td>\n",
       "      <td>Negative</td>\n",
       "      <td>...</td>\n",
       "      <td>11.61</td>\n",
       "      <td>Positive</td>\n",
       "      <td>Question-and-Answer Session Operator Certainly...</td>\n",
       "      <td>0.168146</td>\n",
       "      <td>0.466873</td>\n",
       "      <td>8.82</td>\n",
       "      <td>speech</td>\n",
       "      <td>Positive</td>\n",
       "      <td>NaN</td>\n",
       "      <td>https://seekingalpha.com/article/4382943-apple...</td>\n",
       "    </tr>\n",
       "    <tr>\n",
       "      <th>2</th>\n",
       "      <td>2</td>\n",
       "      <td>3</td>\n",
       "      <td>Q3 2020</td>\n",
       "      <td>2020-07-30</td>\n",
       "      <td>Apple Inc. (NASDAQ:AAPL) Q3 2020 Results Confe...</td>\n",
       "      <td>AAPL</td>\n",
       "      <td>1.91</td>\n",
       "      <td>1.22</td>\n",
       "      <td>10.47</td>\n",
       "      <td>Positive</td>\n",
       "      <td>...</td>\n",
       "      <td>12.15</td>\n",
       "      <td>Positive</td>\n",
       "      <td>Question-and-Answer Session Operator Yes, that...</td>\n",
       "      <td>0.169234</td>\n",
       "      <td>0.444186</td>\n",
       "      <td>8.53</td>\n",
       "      <td>QA</td>\n",
       "      <td>Positive</td>\n",
       "      <td>NaN</td>\n",
       "      <td>https://seekingalpha.com/article/4362707-apple...</td>\n",
       "    </tr>\n",
       "    <tr>\n",
       "      <th>3</th>\n",
       "      <td>3</td>\n",
       "      <td>4</td>\n",
       "      <td>Q2 2020</td>\n",
       "      <td>2020-04-30</td>\n",
       "      <td>Apple Inc. (NASDAQ:AAPL) Q2 2020 Results Confe...</td>\n",
       "      <td>AAPL</td>\n",
       "      <td>3.28</td>\n",
       "      <td>2.12</td>\n",
       "      <td>-1.62</td>\n",
       "      <td>Negative</td>\n",
       "      <td>...</td>\n",
       "      <td>12.16</td>\n",
       "      <td>Positive</td>\n",
       "      <td>Question-and-Answer Session Operator Yes. That...</td>\n",
       "      <td>0.148605</td>\n",
       "      <td>0.419132</td>\n",
       "      <td>7.67</td>\n",
       "      <td>QA</td>\n",
       "      <td>Positive</td>\n",
       "      <td>NaN</td>\n",
       "      <td>https://seekingalpha.com/article/4341792-apple...</td>\n",
       "    </tr>\n",
       "    <tr>\n",
       "      <th>4</th>\n",
       "      <td>4</td>\n",
       "      <td>5</td>\n",
       "      <td>Q1 2020</td>\n",
       "      <td>2020-01-28</td>\n",
       "      <td>Apple Inc. (NASDAQ:AAPL) Q1 2020 Results Confe...</td>\n",
       "      <td>AAPL</td>\n",
       "      <td>-2.94</td>\n",
       "      <td>2.83</td>\n",
       "      <td>2.10</td>\n",
       "      <td>Negative</td>\n",
       "      <td>...</td>\n",
       "      <td>11.71</td>\n",
       "      <td>Positive</td>\n",
       "      <td>Question-and-Answer Session Operator Yes. That...</td>\n",
       "      <td>0.168459</td>\n",
       "      <td>0.439424</td>\n",
       "      <td>8.48</td>\n",
       "      <td>QA</td>\n",
       "      <td>Positive</td>\n",
       "      <td>NaN</td>\n",
       "      <td>https://seekingalpha.com/article/4319666-apple...</td>\n",
       "    </tr>\n",
       "  </tbody>\n",
       "</table>\n",
       "<p>5 rows × 24 columns</p>\n",
       "</div>"
      ],
      "text/plain": [
       "   Unnamed: 0  Unnamed: 0.1 qtr_year  release_dt  \\\n",
       "0           0             1  Q1 2021  2021-01-27   \n",
       "1           1             2  Q4 2020  2020-10-29   \n",
       "2           2             3  Q3 2020  2020-07-30   \n",
       "3           3             4  Q2 2020  2020-04-30   \n",
       "4           4             5  Q1 2020  2020-01-28   \n",
       "\n",
       "                                               title ticker  prev_day_ret%  \\\n",
       "0  Apple Inc. (NASDAQ:AAPL) Q1 2021 Results Confe...   AAPL           0.17   \n",
       "1  Apple Inc. (NASDAQ:AAPL) Q4 2020 Earnings Conf...   AAPL          -4.64   \n",
       "2  Apple Inc. (NASDAQ:AAPL) Q3 2020 Results Confe...   AAPL           1.91   \n",
       "3  Apple Inc. (NASDAQ:AAPL) Q2 2020 Results Confe...   AAPL           3.28   \n",
       "4  Apple Inc. (NASDAQ:AAPL) Q1 2020 Results Confe...   AAPL          -2.94   \n",
       "\n",
       "   release_day_ret%  next_day_ret% overall_return  ...  speech_complexity  \\\n",
       "0             -0.77          -3.50       Negative  ...              12.63   \n",
       "1              3.71          -5.60       Negative  ...              11.61   \n",
       "2              1.22          10.47       Positive  ...              12.15   \n",
       "3              2.12          -1.62       Negative  ...              12.16   \n",
       "4              2.83           2.10       Negative  ...              11.71   \n",
       "\n",
       "  speech_overall_sentiments  \\\n",
       "0                  Positive   \n",
       "1                  Positive   \n",
       "2                  Positive   \n",
       "3                  Positive   \n",
       "4                  Positive   \n",
       "\n",
       "                                             Q_and_A  QA_sentiment_score  \\\n",
       "0  Question-and-Answer Session Operator We'll go ...            0.164414   \n",
       "1  Question-and-Answer Session Operator Certainly...            0.168146   \n",
       "2  Question-and-Answer Session Operator Yes, that...            0.169234   \n",
       "3  Question-and-Answer Session Operator Yes. That...            0.148605   \n",
       "4  Question-and-Answer Session Operator Yes. That...            0.168459   \n",
       "\n",
       "   QA_subjectivity QA_complexity Return_Driver  QA_overall_sentiments  \\\n",
       "0         0.461982          8.18            QA               Positive   \n",
       "1         0.466873          8.82        speech               Positive   \n",
       "2         0.444186          8.53            QA               Positive   \n",
       "3         0.419132          7.67            QA               Positive   \n",
       "4         0.439424          8.48            QA               Positive   \n",
       "\n",
       "   url_source                                         URL_SOURCE  \n",
       "0         NaN  https://seekingalpha.com/article/4401478-apple...  \n",
       "1         NaN  https://seekingalpha.com/article/4382943-apple...  \n",
       "2         NaN  https://seekingalpha.com/article/4362707-apple...  \n",
       "3         NaN  https://seekingalpha.com/article/4341792-apple...  \n",
       "4         NaN  https://seekingalpha.com/article/4319666-apple...  \n",
       "\n",
       "[5 rows x 24 columns]"
      ]
     },
     "execution_count": 5,
     "metadata": {},
     "output_type": "execute_result"
    }
   ],
   "source": [
    "file = base_path+\"NLP_conf_call_data.xlsx\"\n",
    "df1 = pd.read_excel(file)\n",
    "df1.head()"
   ]
  },
  {
   "cell_type": "code",
   "execution_count": 6,
   "metadata": {},
   "outputs": [
    {
     "data": {
      "text/html": [
       "<div>\n",
       "<style scoped>\n",
       "    .dataframe tbody tr th:only-of-type {\n",
       "        vertical-align: middle;\n",
       "    }\n",
       "\n",
       "    .dataframe tbody tr th {\n",
       "        vertical-align: top;\n",
       "    }\n",
       "\n",
       "    .dataframe thead th {\n",
       "        text-align: right;\n",
       "    }\n",
       "</style>\n",
       "<table border=\"1\" class=\"dataframe\">\n",
       "  <thead>\n",
       "    <tr style=\"text-align: right;\">\n",
       "      <th></th>\n",
       "      <th>qtr_year</th>\n",
       "      <th>release_dt</th>\n",
       "      <th>title</th>\n",
       "      <th>ticker</th>\n",
       "      <th>prev_day_ret%</th>\n",
       "      <th>release_day_ret%</th>\n",
       "      <th>next_day_ret%</th>\n",
       "      <th>overall_return</th>\n",
       "      <th>poss_early_release</th>\n",
       "      <th>speech</th>\n",
       "      <th>...</th>\n",
       "      <th>speech_subjectivity</th>\n",
       "      <th>speech_complexity</th>\n",
       "      <th>speech_overall_sentiments</th>\n",
       "      <th>Q_and_A</th>\n",
       "      <th>QA_sentiment_score</th>\n",
       "      <th>QA_subjectivity</th>\n",
       "      <th>QA_complexity</th>\n",
       "      <th>Return_Driver</th>\n",
       "      <th>QA_overall_sentiments</th>\n",
       "      <th>URL_SOURCE</th>\n",
       "    </tr>\n",
       "  </thead>\n",
       "  <tbody>\n",
       "    <tr>\n",
       "      <th>0</th>\n",
       "      <td>Q1 2021</td>\n",
       "      <td>2021-01-27</td>\n",
       "      <td>Apple Inc. (NASDAQ:AAPL) Q1 2021 Results Confe...</td>\n",
       "      <td>AAPL</td>\n",
       "      <td>0.17</td>\n",
       "      <td>-0.77</td>\n",
       "      <td>-3.50</td>\n",
       "      <td>Negative</td>\n",
       "      <td>0</td>\n",
       "      <td>Apple Inc. (NASDAQ:AAPL) Q1 2021 Results Confe...</td>\n",
       "      <td>...</td>\n",
       "      <td>0.496912</td>\n",
       "      <td>12.63</td>\n",
       "      <td>Positive</td>\n",
       "      <td>Question-and-Answer Session Operator We'll go ...</td>\n",
       "      <td>0.164414</td>\n",
       "      <td>0.461982</td>\n",
       "      <td>8.18</td>\n",
       "      <td>QA</td>\n",
       "      <td>Positive</td>\n",
       "      <td>https://seekingalpha.com/article/4401478-apple...</td>\n",
       "    </tr>\n",
       "    <tr>\n",
       "      <th>1</th>\n",
       "      <td>Q4 2020</td>\n",
       "      <td>2020-10-29</td>\n",
       "      <td>Apple Inc. (NASDAQ:AAPL) Q4 2020 Earnings Conf...</td>\n",
       "      <td>AAPL</td>\n",
       "      <td>-4.64</td>\n",
       "      <td>3.71</td>\n",
       "      <td>-5.60</td>\n",
       "      <td>Negative</td>\n",
       "      <td>0</td>\n",
       "      <td>Apple Inc. (NASDAQ:AAPL) Q4 2020 Earnings Conf...</td>\n",
       "      <td>...</td>\n",
       "      <td>0.487233</td>\n",
       "      <td>11.61</td>\n",
       "      <td>Positive</td>\n",
       "      <td>Question-and-Answer Session Operator Certainly...</td>\n",
       "      <td>0.168146</td>\n",
       "      <td>0.466873</td>\n",
       "      <td>8.82</td>\n",
       "      <td>speech</td>\n",
       "      <td>Positive</td>\n",
       "      <td>https://seekingalpha.com/article/4382943-apple...</td>\n",
       "    </tr>\n",
       "    <tr>\n",
       "      <th>2</th>\n",
       "      <td>Q3 2020</td>\n",
       "      <td>2020-07-30</td>\n",
       "      <td>Apple Inc. (NASDAQ:AAPL) Q3 2020 Results Confe...</td>\n",
       "      <td>AAPL</td>\n",
       "      <td>1.91</td>\n",
       "      <td>1.22</td>\n",
       "      <td>10.47</td>\n",
       "      <td>Positive</td>\n",
       "      <td>0</td>\n",
       "      <td>Apple Inc. (NASDAQ:AAPL) Q3 2020 Results Confe...</td>\n",
       "      <td>...</td>\n",
       "      <td>0.477323</td>\n",
       "      <td>12.15</td>\n",
       "      <td>Positive</td>\n",
       "      <td>Question-and-Answer Session Operator Yes, that...</td>\n",
       "      <td>0.169234</td>\n",
       "      <td>0.444186</td>\n",
       "      <td>8.53</td>\n",
       "      <td>QA</td>\n",
       "      <td>Positive</td>\n",
       "      <td>https://seekingalpha.com/article/4362707-apple...</td>\n",
       "    </tr>\n",
       "    <tr>\n",
       "      <th>3</th>\n",
       "      <td>Q2 2020</td>\n",
       "      <td>2020-04-30</td>\n",
       "      <td>Apple Inc. (NASDAQ:AAPL) Q2 2020 Results Confe...</td>\n",
       "      <td>AAPL</td>\n",
       "      <td>3.28</td>\n",
       "      <td>2.12</td>\n",
       "      <td>-1.62</td>\n",
       "      <td>Negative</td>\n",
       "      <td>1</td>\n",
       "      <td>Apple Inc. (NASDAQ:AAPL) Q2 2020 Results Confe...</td>\n",
       "      <td>...</td>\n",
       "      <td>0.444778</td>\n",
       "      <td>12.16</td>\n",
       "      <td>Positive</td>\n",
       "      <td>Question-and-Answer Session Operator Yes. That...</td>\n",
       "      <td>0.148605</td>\n",
       "      <td>0.419132</td>\n",
       "      <td>7.67</td>\n",
       "      <td>QA</td>\n",
       "      <td>Positive</td>\n",
       "      <td>https://seekingalpha.com/article/4341792-apple...</td>\n",
       "    </tr>\n",
       "    <tr>\n",
       "      <th>4</th>\n",
       "      <td>Q1 2020</td>\n",
       "      <td>2020-01-28</td>\n",
       "      <td>Apple Inc. (NASDAQ:AAPL) Q1 2020 Results Confe...</td>\n",
       "      <td>AAPL</td>\n",
       "      <td>-2.94</td>\n",
       "      <td>2.83</td>\n",
       "      <td>2.10</td>\n",
       "      <td>Negative</td>\n",
       "      <td>0</td>\n",
       "      <td>Apple Inc. (NASDAQ:AAPL) Q1 2020 Results Confe...</td>\n",
       "      <td>...</td>\n",
       "      <td>0.460144</td>\n",
       "      <td>11.71</td>\n",
       "      <td>Positive</td>\n",
       "      <td>Question-and-Answer Session Operator Yes. That...</td>\n",
       "      <td>0.168459</td>\n",
       "      <td>0.439424</td>\n",
       "      <td>8.48</td>\n",
       "      <td>QA</td>\n",
       "      <td>Positive</td>\n",
       "      <td>https://seekingalpha.com/article/4319666-apple...</td>\n",
       "    </tr>\n",
       "  </tbody>\n",
       "</table>\n",
       "<p>5 rows × 21 columns</p>\n",
       "</div>"
      ],
      "text/plain": [
       "  qtr_year  release_dt                                              title  \\\n",
       "0  Q1 2021  2021-01-27  Apple Inc. (NASDAQ:AAPL) Q1 2021 Results Confe...   \n",
       "1  Q4 2020  2020-10-29  Apple Inc. (NASDAQ:AAPL) Q4 2020 Earnings Conf...   \n",
       "2  Q3 2020  2020-07-30  Apple Inc. (NASDAQ:AAPL) Q3 2020 Results Confe...   \n",
       "3  Q2 2020  2020-04-30  Apple Inc. (NASDAQ:AAPL) Q2 2020 Results Confe...   \n",
       "4  Q1 2020  2020-01-28  Apple Inc. (NASDAQ:AAPL) Q1 2020 Results Confe...   \n",
       "\n",
       "  ticker  prev_day_ret%  release_day_ret%  next_day_ret% overall_return  \\\n",
       "0   AAPL           0.17             -0.77          -3.50       Negative   \n",
       "1   AAPL          -4.64              3.71          -5.60       Negative   \n",
       "2   AAPL           1.91              1.22          10.47       Positive   \n",
       "3   AAPL           3.28              2.12          -1.62       Negative   \n",
       "4   AAPL          -2.94              2.83           2.10       Negative   \n",
       "\n",
       "   poss_early_release                                             speech  ...  \\\n",
       "0                   0  Apple Inc. (NASDAQ:AAPL) Q1 2021 Results Confe...  ...   \n",
       "1                   0  Apple Inc. (NASDAQ:AAPL) Q4 2020 Earnings Conf...  ...   \n",
       "2                   0  Apple Inc. (NASDAQ:AAPL) Q3 2020 Results Confe...  ...   \n",
       "3                   1  Apple Inc. (NASDAQ:AAPL) Q2 2020 Results Confe...  ...   \n",
       "4                   0  Apple Inc. (NASDAQ:AAPL) Q1 2020 Results Confe...  ...   \n",
       "\n",
       "   speech_subjectivity  speech_complexity  speech_overall_sentiments  \\\n",
       "0             0.496912              12.63                   Positive   \n",
       "1             0.487233              11.61                   Positive   \n",
       "2             0.477323              12.15                   Positive   \n",
       "3             0.444778              12.16                   Positive   \n",
       "4             0.460144              11.71                   Positive   \n",
       "\n",
       "                                             Q_and_A QA_sentiment_score  \\\n",
       "0  Question-and-Answer Session Operator We'll go ...           0.164414   \n",
       "1  Question-and-Answer Session Operator Certainly...           0.168146   \n",
       "2  Question-and-Answer Session Operator Yes, that...           0.169234   \n",
       "3  Question-and-Answer Session Operator Yes. That...           0.148605   \n",
       "4  Question-and-Answer Session Operator Yes. That...           0.168459   \n",
       "\n",
       "   QA_subjectivity  QA_complexity  Return_Driver QA_overall_sentiments  \\\n",
       "0         0.461982           8.18             QA              Positive   \n",
       "1         0.466873           8.82         speech              Positive   \n",
       "2         0.444186           8.53             QA              Positive   \n",
       "3         0.419132           7.67             QA              Positive   \n",
       "4         0.439424           8.48             QA              Positive   \n",
       "\n",
       "                                          URL_SOURCE  \n",
       "0  https://seekingalpha.com/article/4401478-apple...  \n",
       "1  https://seekingalpha.com/article/4382943-apple...  \n",
       "2  https://seekingalpha.com/article/4362707-apple...  \n",
       "3  https://seekingalpha.com/article/4341792-apple...  \n",
       "4  https://seekingalpha.com/article/4319666-apple...  \n",
       "\n",
       "[5 rows x 21 columns]"
      ]
     },
     "execution_count": 6,
     "metadata": {},
     "output_type": "execute_result"
    }
   ],
   "source": [
    "#print(df1.columns)\n",
    "#drop unwanted columns\n",
    "df1 = df1.drop(['Unnamed: 0', 'Unnamed: 0.1','url_source'],axis=1)\n",
    "df1.head()"
   ]
  },
  {
   "cell_type": "markdown",
   "metadata": {},
   "source": [
    "### Problem1: Identify returns on the previous day, release day of conf call and next day of conf call to check whether there are any big price movements on stock before release of conf call? (Identify early release of conf call before it gets public)"
   ]
  },
  {
   "cell_type": "code",
   "execution_count": 74,
   "metadata": {},
   "outputs": [],
   "source": [
    "#Find possible early release\n",
    "diff_prev = (df1['prev_day_ret%'].abs()-df1['release_day_ret%'].abs()).abs()\n",
    "diff_next = (df1['next_day_ret%'].abs()-df1['release_day_ret%'].abs()).abs()\n",
    "result = []\n",
    "for i in range(len(diff_prev)):\n",
    "    if abs(diff_prev[i]-diff_next[i]) >= 2:\n",
    "        result.append(1)\n",
    "    else:\n",
    "        result.append(0)\n",
    "if 'poss_early_release' in df1.keys():\n",
    "    df1['poss_early_release'] = result\n",
    "else:\n",
    "    df1.insert(8,'poss_early_release',result)"
   ]
  },
  {
   "cell_type": "code",
   "execution_count": 77,
   "metadata": {},
   "outputs": [
    {
     "data": {
      "text/plain": [
       "0    390\n",
       "1    100\n",
       "Name: poss_early_release, dtype: int64"
      ]
     },
     "execution_count": 77,
     "metadata": {},
     "output_type": "execute_result"
    }
   ],
   "source": [
    "df1['poss_early_release'].value_counts()"
   ]
  },
  {
   "cell_type": "code",
   "execution_count": 78,
   "metadata": {
    "scrolled": true
   },
   "outputs": [
    {
     "data": {
      "image/png": "[encoded data removed]",
      "text/plain": [
       "<Figure size 360x360 with 1 Axes>"
      ]
     },
     "metadata": {
      "needs_background": "light"
     },
     "output_type": "display_data"
    }
   ],
   "source": [
    "#df1.groupby('poss_early_release').size().plot.bar(color=\"maroon\")\n",
    "fig = plt.figure(figsize = (5, 5))\n",
    " \n",
    "# creating the bar plot\n",
    "plt.bar([\"NO\",\"YES\"], df1[\"poss_early_release\"].value_counts(), color ='maroon',\n",
    "        width = 0.4)\n",
    " \n",
    "plt.xlabel(\"possible early release of earning call?\",fontsize=20)\n",
    "plt.ylabel(\"no of companies\",fontsize=20)\n",
    "plt.title(\"Early Release of Information?\",fontsize=20)\n",
    "#plt.legend(handles=[\"NO\",\"YES\"], title='title', bbox_to_anchor=(1.05, 1), loc='upper left')\n",
    "plt.show()\n",
    "\n"
   ]
  },
  {
   "cell_type": "code",
   "execution_count": 141,
   "metadata": {},
   "outputs": [
    {
     "name": "stderr",
     "output_type": "stream",
     "text": [
      "C:\\Anaconda3\\lib\\site-packages\\ipykernel_launcher.py:4: SettingWithCopyWarning: \n",
      "A value is trying to be set on a copy of a slice from a DataFrame.\n",
      "Try using .loc[row_indexer,col_indexer] = value instead\n",
      "\n",
      "See the caveats in the documentation: https://pandas.pydata.org/pandas-docs/stable/user_guide/indexing.html#returning-a-view-versus-a-copy\n",
      "  after removing the cwd from sys.path.\n",
      "C:\\Anaconda3\\lib\\site-packages\\ipykernel_launcher.py:5: SettingWithCopyWarning: \n",
      "A value is trying to be set on a copy of a slice from a DataFrame.\n",
      "Try using .loc[row_indexer,col_indexer] = value instead\n",
      "\n",
      "See the caveats in the documentation: https://pandas.pydata.org/pandas-docs/stable/user_guide/indexing.html#returning-a-view-versus-a-copy\n",
      "  \"\"\"\n",
      "C:\\Anaconda3\\lib\\site-packages\\matplotlib\\cbook\\__init__.py:1377: FutureWarning: Support for multi-dimensional indexing (e.g. `obj[:, None]`) is deprecated and will be removed in a future version.  Convert to a numpy array before indexing instead.\n",
      "  x[:, None]\n",
      "C:\\Anaconda3\\lib\\site-packages\\matplotlib\\axes\\_base.py:239: FutureWarning: Support for multi-dimensional indexing (e.g. `obj[:, None]`) is deprecated and will be removed in a future version.  Convert to a numpy array before indexing instead.\n",
      "  y = y[:, np.newaxis]\n"
     ]
    },
    {
     "data": {
      "image/png": "[encoded data removed]",
      "text/plain": [
       "<Figure size 432x288 with 1 Axes>"
      ]
     },
     "metadata": {
      "needs_background": "light"
     },
     "output_type": "display_data"
    }
   ],
   "source": [
    "#Example of XOM = Exxon Mobil Corporation data\n",
    "\n",
    "e_rls = df1.loc[df1['ticker'] == \"XOM\"]\n",
    "e_rls['prev'] = (e_rls['prev_day_ret%'].abs()-e_rls['release_day_ret%'].abs()).abs()\n",
    "e_rls['next'] = (e_rls['next_day_ret%'].abs()-e_rls['release_day_ret%'].abs()).abs()\n",
    "temp = e_rls.loc[e_rls['prev']-e_rls['next'] > 2]\n",
    "i=temp.index[0]\n",
    "stock_data = yf.Ticker(temp['ticker'][i])\n",
    "start_dt = (datetime.strptime(temp['release_dt'][i],'%Y-%m-%d')-timedelta(20)).strftime('%Y-%m-%d')\n",
    "end_dt = (datetime.strptime(temp['release_dt'][i],'%Y-%m-%d')+timedelta(20)).strftime('%Y-%m-%d')\n",
    "stock_data_yf = stock_data.history(start = start_dt,end = end_dt)\n",
    "stock_data_yf['Close'] = [40.17,41.49,42.02,41.69,40.98,40.02,42.04,41.06,41.15,40.89,41.49,41.01,41.46,39.42,39.62,39.78,40.53,40.85,40.73,40.90,40.93,40.65,40.70,40.63,40.82,40.94,40.59,40.74]\n",
    "dt=[]\n",
    "for j in range(len(stock_data_yf)):\n",
    "    dt.append(datetime.strptime(str(stock_data_yf.index[j]), '%Y-%m-%d %H:%M:%S').strftime('%Y-%m-%d'))\n",
    "#print(dt)\n",
    "#print(temp['release_dt'][i])\n",
    "plt.plot(dt,stock_data_yf['Close'])\n",
    "plt.plot(dt[14],stock_data_yf['Close'][14], 'ro')\n",
    "plt.title(\"Exxon Mobil Corporation\")\n",
    "plt.show()"
   ]
  },
  {
   "cell_type": "markdown",
   "metadata": {},
   "source": [
    "### Problem2: Identify the discrepancy between speech sentiment score and QA sentiment score and try to find whether the returns are driven by speech or QA?"
   ]
  },
  {
   "cell_type": "code",
   "execution_count": 57,
   "metadata": {},
   "outputs": [],
   "source": [
    "#Find whether the returns are driven by speech sentiment or QA sentiment\n",
    "driving_sentiment_max = df1[['speech_sentiment_score','QA_sentiment_score']].idxmax(axis=1)\n",
    "driving_sentiment_min = df1[['speech_sentiment_score','QA_sentiment_score']].idxmin(axis=1)\n",
    "driving_sentiment = []\n",
    "for i in range(len(df1)):\n",
    "    if df1['next_day_ret%'][i] > df1['release_day_ret%'][i]:\n",
    "        driving_sentiment.append(re.findall('^[^_]+(?=_)',driving_sentiment_max[i])[0])\n",
    "    elif df1['next_day_ret%'][i] < df1['release_day_ret%'][i]:\n",
    "        driving_sentiment.append(re.findall('^[^_]+(?=_)',driving_sentiment_min[i])[0])\n",
    "    else:\n",
    "        driving_sentiment.append('NA')\n",
    "if 'Return_Driver' in df1.keys():\n",
    "    df1['Return_Driver'] = driving_sentiment\n",
    "else:\n",
    "    df1.insert(18,'Return_Driver',driving_sentiment)"
   ]
  },
  {
   "cell_type": "code",
   "execution_count": 196,
   "metadata": {},
   "outputs": [
    {
     "name": "stdout",
     "output_type": "stream",
     "text": [
      "QA        254\n",
      "speech    236\n",
      "Name: Return_Driver, dtype: int64\n"
     ]
    },
    {
     "data": {
      "image/png": "[encoded data removed]",
      "text/plain": [
       "<Figure size 360x360 with 1 Axes>"
      ]
     },
     "metadata": {
      "needs_background": "light"
     },
     "output_type": "display_data"
    }
   ],
   "source": [
    "#df1.groupby('Return_Driver').size().plot.bar()\n",
    "print(df1[\"Return_Driver\"].value_counts())\n",
    "fig = plt.figure(figsize = (5, 5))\n",
    " \n",
    "# creating the bar plot\n",
    "plt.bar([\"Q&A\",\"SPEECH\"], df1[\"Return_Driver\"].value_counts(), color ='skyblue',\n",
    "        width = 0.4)\n",
    " \n",
    "plt.xlabel(\"Driver of stock Returns\",fontsize=20)\n",
    "plt.ylabel(\"No of Records\",fontsize=20)\n",
    "plt.title(\"Return Driver?\",fontsize=20)\n",
    "plt.show()"
   ]
  },
  {
   "cell_type": "code",
   "execution_count": 30,
   "metadata": {},
   "outputs": [
    {
     "data": {
      "application/vnd.jupyter.widget-view+json": {
       "model_id": "71d5a64ef84046e889e4c5cf8dd5ae43",
       "version_major": 2,
       "version_minor": 0
      },
      "text/plain": [
       "interactive(children=(Dropdown(description='ticker', options=('AAPL', 'MSFT', 'AMT', 'EMHTF', 'AMZN', 'FB', 'F…"
      ]
     },
     "metadata": {},
     "output_type": "display_data"
    },
    {
     "data": {
      "text/plain": [
       "<function __main__.return_driver_info(ticker)>"
      ]
     },
     "execution_count": 30,
     "metadata": {},
     "output_type": "execute_result"
    }
   ],
   "source": [
    "def get_polarity(df,ticker):\n",
    "    speech_polarity = df[(df[\"ticker\"]==ticker)]['speech_sentiment_score']\n",
    "    qa_polarity = df[(df[\"ticker\"]==ticker)]['QA_sentiment_score']\n",
    "    plt.plot(speech_polarity,color='red',label='speech_polarity')\n",
    "    plt.plot(qa_polarity,color='green',label='qa_polarity')\n",
    "    plt.legend(loc='upper right')\n",
    "    plt.show()\n",
    "    \n",
    "def get_returns(df,ticker):\n",
    "    next_return = df[(df[\"ticker\"]==ticker)]['next_day_ret%']\n",
    "    plt.plot(next_return/10,color='blue',label='next_day_ret%')\n",
    "    plt.legend(loc='upper right')\n",
    "    plt.show()\n",
    "    \n",
    "def return_driver_info(ticker):\n",
    "    get_polarity(df1,ticker)\n",
    "    get_returns(df1,ticker)\n",
    "\n",
    "interact(return_driver_info, ticker=df1.ticker.unique())"
   ]
  },
  {
   "cell_type": "code",
   "execution_count": 209,
   "metadata": {},
   "outputs": [
    {
     "data": {
      "image/png": "[encoded data removed]",
      "text/plain": [
       "<Figure size 432x288 with 1 Axes>"
      ]
     },
     "metadata": {
      "needs_background": "light"
     },
     "output_type": "display_data"
    },
    {
     "data": {
      "image/png": "[encoded data removed]",
      "text/plain": [
       "<Figure size 432x288 with 1 Axes>"
      ]
     },
     "metadata": {
      "needs_background": "light"
     },
     "output_type": "display_data"
    }
   ],
   "source": [
    "plt.plot(df1['speech_sentiment_score'],color='red',label='speech_polarity')\n",
    "plt.plot(df1['QA_sentiment_score'],color='blue',label='qa_polarity')\n",
    "plt.plot(df1['QA_sentiment_score'].mean(),color='green',linewidth = 2.0,label='polarity')\n",
    "plt.legend()\n",
    "plt.show()\n",
    "plt.plot(df1['next_day_ret%'],color='blue',label='next_day_ret%')\n",
    "#plt.plot(df1['prev_day_ret%'],color='green',label='prev_day_ret%')\n",
    "plt.legend()\n",
    "plt.show()"
   ]
  },
  {
   "cell_type": "code",
   "execution_count": 11,
   "metadata": {},
   "outputs": [
    {
     "name": "stdout",
     "output_type": "stream",
     "text": [
      "\n",
      " Below are the top 20 common words \n",
      " [('year', 10892), ('quarter', 8996), ('growth', 6121), ('billion', 4833), ('business', 4521), ('million', 3928), ('revenue', 3901), ('new', 3673), ('call', 3499), ('also', 3435), ('strong', 3224), ('well', 3038), ('first', 2956), ('continue', 2949), ('customers', 2736), ('results', 2681), ('time', 2492), ('company', 2402), ('today', 2372), ('earnings', 2370), ('expect', 2348), ('like', 2326), ('market', 2271), ('last', 2263), ('sales', 2258), ('think', 2255), ('across', 2219), ('financial', 2193), ('operating', 2138), ('share', 2133), ('one', 2130), ('covid', 2035), ('second', 1981), ('see', 1948), ('conference', 1878), ('approximately', 1868), ('impact', 1815), ('cash', 1805), ('including', 1791), ('performance', 1778), ('basis', 1746), ('good', 1726), ('increased', 1670), ('going', 1649), ('digital', 1630), ('capital', 1603), ('people', 1600), ('net', 1579), ('customer', 1544), ('third', 1528)]\n"
     ]
    }
   ],
   "source": [
    "text = ''\n",
    "for x in df1['QA']:\n",
    "    text = text + x\n",
    "text = text.lower()   # lower text\n",
    "tokenizer = nltk.RegexpTokenizer(r\"\\w+\")\n",
    "text = tokenizer.tokenize(text)\n",
    "text = [word for word in text if not any(c.isdigit() for c in word)]  # remove words that contain numbers\n",
    "stop = nltk.corpus.stopwords.words('english')\n",
    "stop=set(stop)\n",
    "text = [x for x in text if x not in stop]#remove english stop words and words which appear frequently like shirts\n",
    "text = [t for t in text if len(t) > 2]\n",
    "\n",
    "common_words = []\n",
    "fdist = FreqDist(text)\n",
    "common_words = fdist.most_common(50)\n",
    "print('\\n Below are the top {} common words \\n {}'.format(20,common_words))\n",
    "#fdist.plot(top_num)"
   ]
  },
  {
   "cell_type": "markdown",
   "metadata": {},
   "source": [
    "## Data Visualization"
   ]
  },
  {
   "cell_type": "code",
   "execution_count": 28,
   "metadata": {},
   "outputs": [],
   "source": [
    "def getWordsBasedOnFilter(df,ticker_name, quarter = \"\"):\n",
    "    \n",
    "    speech_list = []\n",
    "    q_and_a_list = []\n",
    "    \n",
    "    if ticker_name != \"\" and quarter != \"\":  #filter by ticker_name and quarter\n",
    "        speech_list = df[(df[\"ticker\"]==ticker_name) & (df[\"qtr_year\"]==quarter)]['speech']\n",
    "        q_and_a_list = df[(df[\"ticker\"]==ticker_name) & (df[\"qtr_year\"]==quarter)]['Q_and_A']\n",
    "      \n",
    "        \n",
    "    elif ticker_name != \"\" and quarter == \"\":   #filter by ticker_name\n",
    "        speech_list = df[(df[\"ticker\"]==ticker_name)]['speech']\n",
    "        q_and_a_list = df[(df[\"ticker\"]==ticker_name)]['Q_and_A']\n",
    "        \n",
    "    elif ticker_name == \"\" and quarter != \"\":    #filter by quarter\n",
    "        speech_list = df[(df[\"qtr_year\"]==quarter)]['speech']\n",
    "        q_and_a_list = df[(df[\"qtr_year\"]==quarter)]['Q_and_A']\n",
    "        \n",
    "    else:\n",
    "        print(\"Please provide one or more value to filter the data\")\n",
    "        \n",
    "    speech = ''\n",
    "    q_and_a = ''\n",
    "    if len(speech_list) != 0:\n",
    "        speech = \"\".join([str(x) for x in speech_list])\n",
    "        \n",
    "        \n",
    "    if len(q_and_a_list) != 0:\n",
    "        q_and_a = \"\".join([str(x) for x in q_and_a_list])\n",
    "       \n",
    "    return speech,q_and_a\n",
    "\n",
    "def clean_text(text,excluded_words = None,clean_speech_words=None):    \n",
    "    text = text.lower()   # lower text\n",
    "    tokenizer = nltk.RegexpTokenizer(r\"\\w+\")\n",
    "    text = tokenizer.tokenize(text)\n",
    "    text = [word for word in text if not any(c.isdigit() for c in word)]  # remove words that contain numbers\n",
    "    stop = nltk.corpus.stopwords.words('english')\n",
    "    stop=set(stop)\n",
    "    additional_stop_words = ['apple','hi', 'earning', 'conference', 'speaker', 'analyst', 'operator', 'welcome', \\\n",
    "                         'think', 'cost', 'result', 'primarily', 'overall', 'line', 'general', \\\n",
    "                          'thank', 'see', 'alphabet', 'google', 'facebook', 'amazon', 'microsoft',\\\n",
    "                        'business', 'customer', 'revenue', 'question', 'lady', 'gentleman', \\\n",
    "                        'continue', 'continuing', 'continued', 'focus', 'participant', 'see', 'seeing', \\\n",
    "                        'user', 'work', 'lot', 'day',  'like', 'looking', 'look', 'come', 'yes', 'include', \\\n",
    "                        'investor', 'director', 'expense', 'manager', 'founder', 'chairman', \\\n",
    "                         'chief', 'operating', 'officer', 'executive', 'financial', 'senior', 'vice', 'president', \\\n",
    "                        'opportunity', 'go', 'expect', 'increase', 'quarter', 'stand', 'instructions', \\\n",
    "                        'obviously', 'thing', 'important', 'help', 'bring', 'mention', 'yeah','opportunity', 'go', 'expect', 'increase', 'quarter', 'stand', 'instructions', \\\n",
    "                        'obviously', 'thing', 'important', 'help', 'bring', 'mention', 'yeah', 'get', 'proceed', \\\n",
    "                        'currency', 'example', 'believe',\"still\", \"now\", \"get\", \"see\", \"year\",\"question\",\n",
    "                         \"answer\",\"like\", \"from\",\"also\", \"well\",\"would\",\n",
    "                         \"going\", 'really',\"say\",\"good\",\"one\",\"sure\",\n",
    "                         \"thank\", \"See\",\"yes\",\"say\",\"think\"]\n",
    "\n",
    "    stop.update(additional_stop_words)\n",
    "    stop = list(stop)\n",
    "    if excluded_words is not None:\n",
    "        speech_words = [word for word,count in excluded_words]\n",
    "        text = [x for x in text if x not in stop]\n",
    "        common_words = []\n",
    "        fdist = FreqDist(text)\n",
    "        common_words = fdist.most_common(50)\n",
    "        qa_words = [word for word,count in excluded_words]\n",
    "        commonalities = list(set(qa_words).intersection(speech_words))\n",
    "        print('Common Most Frequent words between Speech & QA:\\n',commonalities)\n",
    "        createWordCloud(commonalities,\"Common Cloud\")\n",
    "        #speech cloud\n",
    "        speech_words = [word for word in clean_speech_words if word not in commonalities]\n",
    "        createWordCloud(speech_words,\"Speech Cloud\")\n",
    "        \n",
    "        stop = stop+commonalities\n",
    "                \n",
    "    text = [x for x in text if x not in stop]#remove english stop words and words which appear frequently like shirts\n",
    "    text = [t for t in text if len(t) > 2]\n",
    "    \n",
    "    return text\n",
    "\n",
    "def createWordCloud(words,title,max_words=200):\n",
    "    wc = WordCloud(background_color = 'white', max_font_size = 50, max_words =max_words,contour_width=3,contour_color='firebrick')\n",
    "    wc.generate(str(words))\n",
    "    plt.figure(figsize =[10,10])\n",
    "    plt.imshow(wc, interpolation=\"bilinear\", aspect=\"equal\")\n",
    "    plt.axis(\"off\")\n",
    "    plt.title(title, fontsize = 20)\n",
    "    plt.show()\n",
    "\n",
    "    #wc.to_file('wordCloud'+title+'.png')\n",
    "    \n",
    "def get_common_words(word_list,top_num):\n",
    "    common_words = []\n",
    "    fdist = FreqDist(word_list)\n",
    "    common_words = fdist.most_common(top_num)\n",
    "    print('\\n Below are the top {} common words \\n {}'.format(top_num,common_words))\n",
    "    fdist.plot(top_num)\n",
    "    return common_words"
   ]
  },
  {
   "cell_type": "code",
   "execution_count": 29,
   "metadata": {
    "scrolled": true
   },
   "outputs": [
    {
     "data": {
      "application/vnd.jupyter.widget-view+json": {
       "model_id": "84adc27d696744279dcebcf94b32b632",
       "version_major": 2,
       "version_minor": 0
      },
      "text/plain": [
       "interactive(children=(Dropdown(description='tickker', options=('AAPL', 'MSFT', 'AMT', 'EMHTF', 'AMZN', 'FB', '…"
      ]
     },
     "metadata": {},
     "output_type": "display_data"
    },
    {
     "data": {
      "text/plain": [
       "<function __main__.visualization(tickker)>"
      ]
     },
     "execution_count": 29,
     "metadata": {},
     "output_type": "execute_result"
    }
   ],
   "source": [
    "def visualization(tickker):  \n",
    "    #create word cloud for speech and qa\n",
    "    speech_list,qa_list = getWordsBasedOnFilter(df1,tickker) \n",
    "    #Speech\n",
    "    clean_speech_words = clean_text(speech_list)\n",
    "    print(\"Most Common words for Speech text are:\\n\")\n",
    "    most_common_words_speech = get_common_words(clean_speech_words,50)\n",
    "    #createWordCloud(clean_speech_words,\"Speech Cloud\")\n",
    "    #Q&A\n",
    "    clean_qa_words = clean_text(qa_list,most_common_words_speech,clean_speech_words)\n",
    "    print(\"Most Common words for QA text are:\\n\")\n",
    "    most_common_words_QA = get_common_words(clean_qa_words,50)\n",
    "    createWordCloud(clean_qa_words, \"QA Cloud\")\n",
    "    \n",
    "\n",
    "interact(visualization, tickker=df1.ticker.unique())"
   ]
  },
  {
   "cell_type": "markdown",
   "metadata": {},
   "source": [
    "### Problem3: Develop a model (Multivariate regression or other applicable ML models to predict the positive or negative returns based on sentiment score of speech and QA)"
   ]
  },
  {
   "cell_type": "code",
   "execution_count": 41,
   "metadata": {},
   "outputs": [
    {
     "data": {
      "text/html": [
       "<div>\n",
       "<style scoped>\n",
       "    .dataframe tbody tr th:only-of-type {\n",
       "        vertical-align: middle;\n",
       "    }\n",
       "\n",
       "    .dataframe tbody tr th {\n",
       "        vertical-align: top;\n",
       "    }\n",
       "\n",
       "    .dataframe thead th {\n",
       "        text-align: right;\n",
       "    }\n",
       "</style>\n",
       "<table border=\"1\" class=\"dataframe\">\n",
       "  <thead>\n",
       "    <tr style=\"text-align: right;\">\n",
       "      <th></th>\n",
       "      <th>speech_sentiment_score</th>\n",
       "      <th>prev_day_ret%</th>\n",
       "      <th>release_day_ret%</th>\n",
       "      <th>next_day_ret%</th>\n",
       "      <th>QA_sentiment_score</th>\n",
       "      <th>SentimentType</th>\n",
       "    </tr>\n",
       "  </thead>\n",
       "  <tbody>\n",
       "    <tr>\n",
       "      <th>speech_sentiment_score</th>\n",
       "      <td>1.000000</td>\n",
       "      <td>0.068524</td>\n",
       "      <td>-0.021550</td>\n",
       "      <td>-0.013614</td>\n",
       "      <td>0.133024</td>\n",
       "      <td>0.056057</td>\n",
       "    </tr>\n",
       "    <tr>\n",
       "      <th>prev_day_ret%</th>\n",
       "      <td>0.068524</td>\n",
       "      <td>1.000000</td>\n",
       "      <td>-0.178151</td>\n",
       "      <td>0.105959</td>\n",
       "      <td>-0.025811</td>\n",
       "      <td>0.111847</td>\n",
       "    </tr>\n",
       "    <tr>\n",
       "      <th>release_day_ret%</th>\n",
       "      <td>-0.021550</td>\n",
       "      <td>-0.178151</td>\n",
       "      <td>1.000000</td>\n",
       "      <td>-0.044005</td>\n",
       "      <td>-0.003592</td>\n",
       "      <td>-0.457670</td>\n",
       "    </tr>\n",
       "    <tr>\n",
       "      <th>next_day_ret%</th>\n",
       "      <td>-0.013614</td>\n",
       "      <td>0.105959</td>\n",
       "      <td>-0.044005</td>\n",
       "      <td>1.000000</td>\n",
       "      <td>0.017706</td>\n",
       "      <td>0.500794</td>\n",
       "    </tr>\n",
       "    <tr>\n",
       "      <th>QA_sentiment_score</th>\n",
       "      <td>0.133024</td>\n",
       "      <td>-0.025811</td>\n",
       "      <td>-0.003592</td>\n",
       "      <td>0.017706</td>\n",
       "      <td>1.000000</td>\n",
       "      <td>0.070186</td>\n",
       "    </tr>\n",
       "    <tr>\n",
       "      <th>SentimentType</th>\n",
       "      <td>0.056057</td>\n",
       "      <td>0.111847</td>\n",
       "      <td>-0.457670</td>\n",
       "      <td>0.500794</td>\n",
       "      <td>0.070186</td>\n",
       "      <td>1.000000</td>\n",
       "    </tr>\n",
       "  </tbody>\n",
       "</table>\n",
       "</div>"
      ],
      "text/plain": [
       "                        speech_sentiment_score  prev_day_ret%  \\\n",
       "speech_sentiment_score                1.000000       0.068524   \n",
       "prev_day_ret%                         0.068524       1.000000   \n",
       "release_day_ret%                     -0.021550      -0.178151   \n",
       "next_day_ret%                        -0.013614       0.105959   \n",
       "QA_sentiment_score                    0.133024      -0.025811   \n",
       "SentimentType                         0.056057       0.111847   \n",
       "\n",
       "                        release_day_ret%  next_day_ret%  QA_sentiment_score  \\\n",
       "speech_sentiment_score         -0.021550      -0.013614            0.133024   \n",
       "prev_day_ret%                  -0.178151       0.105959           -0.025811   \n",
       "release_day_ret%                1.000000      -0.044005           -0.003592   \n",
       "next_day_ret%                  -0.044005       1.000000            0.017706   \n",
       "QA_sentiment_score             -0.003592       0.017706            1.000000   \n",
       "SentimentType                  -0.457670       0.500794            0.070186   \n",
       "\n",
       "                        SentimentType  \n",
       "speech_sentiment_score       0.056057  \n",
       "prev_day_ret%                0.111847  \n",
       "release_day_ret%            -0.457670  \n",
       "next_day_ret%                0.500794  \n",
       "QA_sentiment_score           0.070186  \n",
       "SentimentType                1.000000  "
      ]
     },
     "execution_count": 41,
     "metadata": {},
     "output_type": "execute_result"
    }
   ],
   "source": [
    "Cor_Columns = [\"speech_sentiment_score\",'prev_day_ret%',\n",
    "       'release_day_ret%', 'next_day_ret%',\"QA_sentiment_score\",\"overall_sentiment\"]\n",
    "df3=df1.loc[:,Cor_Columns]\n",
    "df3\n",
    "df3['SentimentType']=(df3['overall_sentiment']=='Positive').astype(int)\n",
    "df3.corr()"
   ]
  },
  {
   "cell_type": "markdown",
   "metadata": {},
   "source": [
    "#### Data Partition"
   ]
  },
  {
   "cell_type": "code",
   "execution_count": 61,
   "metadata": {},
   "outputs": [],
   "source": [
    "#Split the data into 80% training and 20% testing data sets\n",
    "random.shuffle(df3.values)\n",
    "d_part = np.random.rand(len(df3)) < 0.8\n",
    "train = df3[d_part]\n",
    "test = df3[~d_part]\n",
    "predictors = [\"speech_sentiment_score\",'prev_day_ret%', 'release_day_ret%', 'next_day_ret%',\"QA_sentiment_score\"]\n",
    "x_train=train[predictors]\n",
    "y_train=train[\"SentimentType\"]\n",
    "x_test=test[predictors]\n",
    "y_test=test[\"SentimentType\"]"
   ]
  },
  {
   "cell_type": "markdown",
   "metadata": {},
   "source": [
    "### Logistic Regression --- IN PROGRESS"
   ]
  },
  {
   "cell_type": "code",
   "execution_count": null,
   "metadata": {},
   "outputs": [],
   "source": [
    "#logit_model=sm.Logit(y_train,x_train)\n",
    "#logresult=logit_model.fit(maxiter=500)\n",
    "#print(logresult.summary2())"
   ]
  },
  {
   "cell_type": "markdown",
   "metadata": {},
   "source": [
    "### Decision Tree Classification"
   ]
  },
  {
   "cell_type": "code",
   "execution_count": 62,
   "metadata": {},
   "outputs": [
    {
     "name": "stdout",
     "output_type": "stream",
     "text": [
      "Accuracy of Decision Tree classifier: 1.00\n",
      "Accuracy of Decision Tree classifier for test data: 0.93\n"
     ]
    }
   ],
   "source": [
    "## model Creation on train Data[Decision Tree]\n",
    "\n",
    "clf = DecisionTreeClassifier().fit(x_train,y_train)\n",
    "print('Accuracy of Decision Tree classifier: {:.2f}'\n",
    "     .format(clf.score(x_train,y_train)))\n",
    "## testing the accuracy on test data\n",
    "print('Accuracy of Decision Tree classifier for test data: {:.2f}'\n",
    "     .format(clf.score(x_test,y_test)))"
   ]
  },
  {
   "cell_type": "markdown",
   "metadata": {},
   "source": [
    "### Random Forest and Variable importance plot"
   ]
  },
  {
   "cell_type": "code",
   "execution_count": 63,
   "metadata": {},
   "outputs": [
    {
     "data": {
      "image/png": "[encoded data removed]",
      "text/plain": [
       "<Figure size 432x288 with 2 Axes>"
      ]
     },
     "metadata": {
      "needs_background": "light"
     },
     "output_type": "display_data"
    }
   ],
   "source": [
    "feature_names = x_train.columns.tolist()\n",
    "## Importance\n",
    "model = ensemble.RandomForestClassifier(n_estimators=100,criterion=\"entropy\", random_state=0)\n",
    "model.fit(x_train,y_train)\n",
    "importances = model.feature_importances_\n",
    "## Put in a pandas dtf\n",
    "dtf_importances = pd.DataFrame({\"IMPORTANCE\":importances, \n",
    "            \"VARIABLE\":feature_names}).sort_values(\"IMPORTANCE\", \n",
    "            ascending=False)\n",
    "dtf_importances['cumsum'] = dtf_importances['IMPORTANCE'].cumsum(axis=0)\n",
    "dtf_importances = dtf_importances.set_index(\"VARIABLE\")\n",
    "## Plot\n",
    "fig, ax = plt.subplots(nrows=1, ncols=2, sharex=False, sharey=False)\n",
    "fig.suptitle(\"Features Importance\", fontsize=20)\n",
    "ax[0].title.set_text('variables')\n",
    "dtf_importances[[\"IMPORTANCE\"]].sort_values(by=\"IMPORTANCE\").plot(\n",
    "                kind=\"barh\", legend=False, ax=ax[0]).grid(axis=\"x\")\n",
    "ax[0].set(ylabel=\"\")\n",
    "ax[1].title.set_text('cumulative')\n",
    "dtf_importances[[\"cumsum\"]].plot(kind=\"line\", linewidth=4, \n",
    "                                 legend=False, ax=ax[1])\n",
    "ax[1].set(xlabel=\"\", xticks=np.arange(len(dtf_importances)), \n",
    "          xticklabels=dtf_importances.index)\n",
    "plt.xticks(rotation=70)\n",
    "plt.grid(axis='both')\n",
    "plt.show()"
   ]
  },
  {
   "cell_type": "markdown",
   "metadata": {},
   "source": [
    "### KNN"
   ]
  },
  {
   "cell_type": "code",
   "execution_count": 64,
   "metadata": {},
   "outputs": [
    {
     "name": "stdout",
     "output_type": "stream",
     "text": [
      "[[49  7]\n",
      " [ 8 40]]\n",
      "              precision    recall  f1-score   support\n",
      "\n",
      "           0       0.86      0.88      0.87        56\n",
      "           1       0.85      0.83      0.84        48\n",
      "\n",
      "   micro avg       0.86      0.86      0.86       104\n",
      "   macro avg       0.86      0.85      0.85       104\n",
      "weighted avg       0.86      0.86      0.86       104\n",
      "\n"
     ]
    }
   ],
   "source": [
    "# Feature Scaling\n",
    "scaler = StandardScaler()\n",
    "scaler.fit(x_train)\n",
    "\n",
    "x_train = scaler.transform(x_train)\n",
    "x_test = scaler.transform(x_test)\n",
    "\n",
    "## Classification using KNNClassifier\n",
    "\n",
    "classifier = KNeighborsClassifier(n_neighbors=5)\n",
    "classifier.fit(x_train, y_train)\n",
    "y_pred = classifier.predict(x_test)\n",
    "\n",
    "## Evaluating the algorithm\n",
    "print(confusion_matrix(y_test, y_pred))\n",
    "print(classification_report(y_test, y_pred))"
   ]
  },
  {
   "cell_type": "markdown",
   "metadata": {},
   "source": [
    "#### Finding best K value"
   ]
  },
  {
   "cell_type": "code",
   "execution_count": 65,
   "metadata": {},
   "outputs": [
    {
     "data": {
      "text/plain": [
       "Text(0, 0.5, 'Mean Error')"
      ]
     },
     "execution_count": 65,
     "metadata": {},
     "output_type": "execute_result"
    },
    {
     "data": {
      "image/png": "[encoded data removed]",
      "text/plain": [
       "<Figure size 864x432 with 1 Axes>"
      ]
     },
     "metadata": {
      "needs_background": "light"
     },
     "output_type": "display_data"
    }
   ],
   "source": [
    "# Finding the best K value basis error rate\n",
    "error = []\n",
    "\n",
    "# Calculating error for K values between 1 and 40\n",
    "for i in range(1, 40):\n",
    "    knn = KNeighborsClassifier(n_neighbors=i)\n",
    "    knn.fit(x_train, y_train)\n",
    "    pred_i = knn.predict(x_test)\n",
    "    error.append(np.mean(pred_i != y_test))\n",
    "\n",
    "# plotting the k-value graph\n",
    "plt.figure(figsize=(12, 6))\n",
    "plt.plot(range(1, 40), error, color='red', linestyle='dashed', marker='o',\n",
    "         markerfacecolor='blue', markersize=10)\n",
    "plt.title('Error Rate K Value')\n",
    "plt.xlabel('K Value')\n",
    "plt.ylabel('Mean Error')"
   ]
  },
  {
   "cell_type": "code",
   "execution_count": 68,
   "metadata": {},
   "outputs": [
    {
     "name": "stdout",
     "output_type": "stream",
     "text": [
      "[[52  4]\n",
      " [ 3 45]]\n",
      "              precision    recall  f1-score   support\n",
      "\n",
      "           0       0.95      0.93      0.94        56\n",
      "           1       0.92      0.94      0.93        48\n",
      "\n",
      "   micro avg       0.93      0.93      0.93       104\n",
      "   macro avg       0.93      0.93      0.93       104\n",
      "weighted avg       0.93      0.93      0.93       104\n",
      "\n"
     ]
    }
   ],
   "source": [
    "### Classifying with K=13\n",
    "classifier = KNeighborsClassifier(n_neighbors=13)\n",
    "classifier.fit(x_train, y_train)\n",
    "y_pred = classifier.predict(x_test)\n",
    "print(confusion_matrix(y_test, y_pred))\n",
    "print(classification_report(y_test, y_pred))"
   ]
  },
  {
   "cell_type": "markdown",
   "metadata": {},
   "source": [
    "### MVR - for predicting next_day_ret%"
   ]
  },
  {
   "cell_type": "code",
   "execution_count": 69,
   "metadata": {},
   "outputs": [
    {
     "name": "stdout",
     "output_type": "stream",
     "text": [
      "                            OLS Regression Results                            \n",
      "==============================================================================\n",
      "Dep. Variable:          next_day_ret%   R-squared:                       0.348\n",
      "Model:                            OLS   Adj. R-squared:                  0.339\n",
      "Method:                 Least Squares   F-statistic:                     40.53\n",
      "Date:                Tue, 27 Apr 2021   Prob (F-statistic):           2.24e-33\n",
      "Time:                        17:06:53   Log-Likelihood:                -995.50\n",
      "No. Observations:                 386   AIC:                             2003.\n",
      "Df Residuals:                     380   BIC:                             2027.\n",
      "Df Model:                           5                                         \n",
      "Covariance Type:            nonrobust                                         \n",
      "==========================================================================================\n",
      "                             coef    std err          t      P>|t|      [0.025      0.975]\n",
      "------------------------------------------------------------------------------------------\n",
      "const                     -2.0438      0.576     -3.546      0.000      -3.177      -0.911\n",
      "speech_sentiment_score    -2.0975      1.713     -1.224      0.222      -5.466       1.271\n",
      "prev_day_ret%              0.2080      0.068      3.078      0.002       0.075       0.341\n",
      "release_day_ret%           0.2874      0.050      5.729      0.000       0.189       0.386\n",
      "QA_sentiment_score        -1.4104      2.904     -0.486      0.628      -7.121       4.300\n",
      "SentimentType              5.0296      0.367     13.709      0.000       4.308       5.751\n",
      "==============================================================================\n",
      "Omnibus:                       45.332   Durbin-Watson:                   2.015\n",
      "Prob(Omnibus):                  0.000   Jarque-Bera (JB):              307.896\n",
      "Skew:                           0.052   Prob(JB):                     1.38e-67\n",
      "Kurtosis:                       7.374   Cond. No.                         67.0\n",
      "==============================================================================\n",
      "\n",
      "Warnings:\n",
      "[1] Standard Errors assume that the covariance matrix of the errors is correctly specified.\n"
     ]
    }
   ],
   "source": [
    "#creating a seperate dataframe for Regression analysis\n",
    "mvr_columns = [\"speech_sentiment_score\",'prev_day_ret%',\n",
    "       'release_day_ret%',\"QA_sentiment_score\",\"overall_sentiment\",\"next_day_ret%\"]\n",
    "mvr=df1.loc[:,mvr_columns]\n",
    "mvr['SentimentType']=(mvr['overall_sentiment']=='Positive').astype(int)\n",
    "mvr.describe()\n",
    "\n",
    "random.shuffle(mvr.values)\n",
    "mvr_part = np.random.rand(len(mvr)) < 0.8\n",
    "mvr_train = mvr[d_part]\n",
    "mvr_test = mvr[~d_part]\n",
    "\n",
    "## Train & Test data (80%-20%)\n",
    "mvr_predictors = [\"speech_sentiment_score\",'prev_day_ret%', 'release_day_ret%',\"QA_sentiment_score\",\"SentimentType\"]\n",
    "mvrx_train=mvr_train[mvr_predictors]\n",
    "mvry_train=mvr_train['next_day_ret%']\n",
    "mvrx_test=mvr_test[mvr_predictors]\n",
    "mvry_test=mvr_test[\"next_day_ret%\"]\n",
    "\n",
    "#Model\n",
    "X = sm.add_constant(mvrx_train) # adding a constant\n",
    "X_test = sm.add_constant(mvrx_test) \n",
    "model = sm.OLS(mvry_train, X).fit()\n",
    "predictions_train = model.predict(X)\n",
    "predictions_test = model.predict(X_test) \n",
    "\n",
    "print_model = model.summary()\n",
    "print(print_model)\n",
    "#print(predictions,mvry_test)"
   ]
  },
  {
   "cell_type": "code",
   "execution_count": 69,
   "metadata": {},
   "outputs": [
    {
     "name": "stdout",
     "output_type": "stream",
     "text": [
      "0\n"
     ]
    },
    {
     "ename": "IndexError",
     "evalue": "list index out of range",
     "output_type": "error",
     "traceback": [
      "\u001b[1;31m---------------------------------------------------------------------------\u001b[0m",
      "\u001b[1;31mIndexError\u001b[0m                                Traceback (most recent call last)",
      "\u001b[1;32m<ipython-input-69-8436d137fa50>\u001b[0m in \u001b[0;36m<module>\u001b[1;34m\u001b[0m\n\u001b[0;32m      3\u001b[0m \u001b[0ma\u001b[0m \u001b[1;33m=\u001b[0m \u001b[0mre\u001b[0m\u001b[1;33m.\u001b[0m\u001b[0mfindall\u001b[0m\u001b[1;33m(\u001b[0m\u001b[1;34m'(.*?) bd'\u001b[0m\u001b[1;33m,\u001b[0m\u001b[0mtext\u001b[0m\u001b[1;33m)\u001b[0m\u001b[1;33m[\u001b[0m\u001b[1;36m0\u001b[0m\u001b[1;33m]\u001b[0m \u001b[1;32mif\u001b[0m \u001b[0mlen\u001b[0m\u001b[1;33m(\u001b[0m\u001b[0mre\u001b[0m\u001b[1;33m.\u001b[0m\u001b[0mfindall\u001b[0m\u001b[1;33m(\u001b[0m\u001b[1;34m'(.*?) bd'\u001b[0m\u001b[1;33m,\u001b[0m\u001b[0mtext\u001b[0m\u001b[1;33m)\u001b[0m\u001b[1;33m)\u001b[0m \u001b[1;33m>\u001b[0m \u001b[1;36m0\u001b[0m \u001b[1;32melse\u001b[0m \u001b[1;36m0\u001b[0m\u001b[1;33m\u001b[0m\u001b[1;33m\u001b[0m\u001b[0m\n\u001b[0;32m      4\u001b[0m \u001b[0mprint\u001b[0m\u001b[1;33m(\u001b[0m\u001b[0ma\u001b[0m\u001b[1;33m)\u001b[0m\u001b[1;33m\u001b[0m\u001b[1;33m\u001b[0m\u001b[0m\n\u001b[1;32m----> 5\u001b[1;33m \u001b[0mprint\u001b[0m\u001b[1;33m(\u001b[0m\u001b[0mre\u001b[0m\u001b[1;33m.\u001b[0m\u001b[0mfindall\u001b[0m\u001b[1;33m(\u001b[0m\u001b[1;34m'[a-z]+(.*?) ba'\u001b[0m\u001b[1;33m,\u001b[0m\u001b[0mtext\u001b[0m\u001b[1;33m)\u001b[0m\u001b[1;33m[\u001b[0m\u001b[1;36m0\u001b[0m\u001b[1;33m]\u001b[0m\u001b[1;33m)\u001b[0m\u001b[1;33m\u001b[0m\u001b[1;33m\u001b[0m\u001b[0m\n\u001b[0m",
      "\u001b[1;31mIndexError\u001b[0m: list index out of range"
     ]
    }
   ],
   "source": [
    "import re\n",
    "text = \"sqft- Condo for sale\"\n",
    "a = re.findall('(.*?) bd',text)[0] if len(re.findall('(.*?) bd',text)) > 0 else 0\n",
    "print(a)\n",
    "print(re.findall('[a-z]+(.*?) ba',text)[0])"
   ]
  },
  {
   "cell_type": "code",
   "execution_count": null,
   "metadata": {},
   "outputs": [],
   "source": []
  }
 ],
 "metadata": {
  "kernelspec": {
   "display_name": "Python 3",
   "language": "python",
   "name": "python3"
  },
  "language_info": {
   "codemirror_mode": {
    "name": "ipython",
    "version": 3
   },
   "file_extension": ".py",
   "mimetype": "text/x-python",
   "name": "python",
   "nbconvert_exporter": "python",
   "pygments_lexer": "ipython3",
   "version": "3.7.1"
  }
 },
 "nbformat": 4,
 "nbformat_minor": 2
}
